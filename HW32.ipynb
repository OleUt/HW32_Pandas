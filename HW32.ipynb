{
 "cells": [
  {
   "cell_type": "code",
   "execution_count": 1,
   "id": "c8cb90cd",
   "metadata": {},
   "outputs": [
    {
     "name": "stdout",
     "output_type": "stream",
     "text": [
      "         name   surname  av_grade  cur_grade  cur_attempts\n",
      "1     Griffin    Mcleod      53.0         19             3\n",
      "2   Allistair    Patton      65.7         57             2\n",
      "3        Rina    Slater      72.7         78             1\n",
      "4    Caldwell   Skinner      77.3         92             1\n",
      "5      Portia  Galloway      54.3         23             3\n",
      "6    Hadassah      Lowe      74.7         84             1\n",
      "7      Ingrid      Yang      67.7         63             2\n",
      "8      Trevor    Spence      66.3         59             2\n",
      "9        Iola      West      67.0         61             2\n",
      "10      Kitra    Sparks      62.3         47             1\n",
      "11      Carly      Bray      55.7         27             3\n",
      "12    Leilani     Beard      79.7         99             1\n",
      "13    Cameron     Bowen      74.7         84             1\n",
      "14      Hilda    Oneill      78.3         95             1\n",
      "15        Ori     Short      63.3         50             3 \n",
      " <class 'pandas.core.frame.DataFrame'>\n"
     ]
    }
   ],
   "source": [
    "import pandas as pd\n",
    "\n",
    "# dataframe\n",
    "tab = pd.read_csv('current_course_grades.csv')\n",
    "num = [i+1 for i in range(15)]\n",
    "tab.index = num\n",
    "print(tab, '\\n', type(tab))"
   ]
  },
  {
   "cell_type": "code",
   "execution_count": 2,
   "id": "af064506",
   "metadata": {},
   "outputs": [
    {
     "name": "stdout",
     "output_type": "stream",
     "text": [
      "         name   surname  av_grade  cur_grade  cur_attempts      status\n",
      "1     Griffin    Mcleod      53.0         19             3  not passed\n",
      "2   Allistair    Patton      65.7         57             2      passed\n",
      "3        Rina    Slater      72.7         78             1      passed\n",
      "4    Caldwell   Skinner      77.3         92             1      passed\n",
      "5      Portia  Galloway      54.3         23             3  not passed\n",
      "6    Hadassah      Lowe      74.7         84             1      passed\n",
      "7      Ingrid      Yang      67.7         63             2      passed\n",
      "8      Trevor    Spence      66.3         59             2      passed\n",
      "9        Iola      West      67.0         61             2      passed\n",
      "10      Kitra    Sparks      62.3         47             1  not passed\n",
      "11      Carly      Bray      55.7         27             3  not passed\n",
      "12    Leilani     Beard      79.7         99             1      passed\n",
      "13    Cameron     Bowen      74.7         84             1      passed\n",
      "14      Hilda    Oneill      78.3         95             1      passed\n",
      "15        Ori     Short      63.3         50             3      passed\n"
     ]
    }
   ],
   "source": [
    "# add data\n",
    "cur_res = ['not passed', 'passed', 'passed', 'passed', 'not passed',\n",
    "           'passed', 'passed', 'passed', 'passed', 'not passed',\n",
    "           'not passed', 'passed', 'passed', 'passed', 'passed']\n",
    "status = pd.Series(data=cur_res, index=num)\n",
    "tab['status'] = status\n",
    "print(tab)"
   ]
  },
  {
   "cell_type": "code",
   "execution_count": 3,
   "id": "722dad05",
   "metadata": {},
   "outputs": [
    {
     "name": "stdout",
     "output_type": "stream",
     "text": [
      "av_grade: min = 53.0 max = 79.7 mean = 67.51333333333334 median = 67.0\n"
     ]
    }
   ],
   "source": [
    "# statistics\n",
    "print('av_grade: min =', tab['av_grade'].min(),\n",
    "      'max =', tab['av_grade'].max(),\n",
    "      'mean =', tab['av_grade'].mean(),\n",
    "      'median =', tab['av_grade'].median())"
   ]
  },
  {
   "cell_type": "code",
   "execution_count": 4,
   "id": "b0d2f0c7",
   "metadata": {},
   "outputs": [
    {
     "name": "stdout",
     "output_type": "stream",
     "text": [
      "number of students passed the exam in 1 attempt = 6\n"
     ]
    }
   ],
   "source": [
    "# exam 1 attempt\n",
    "one_attempt = tab[(tab['cur_attempts'] == 1) & (tab['status'] == 'passed')]\n",
    "one_attempt_count = one_attempt['cur_attempts'].count()\n",
    "print('number of students passed the exam in 1 attempt =', one_attempt_count)"
   ]
  },
  {
   "cell_type": "code",
   "execution_count": 5,
   "id": "3457e8a7",
   "metadata": {},
   "outputs": [
    {
     "name": "stdout",
     "output_type": "stream",
     "text": [
      "1     19\n",
      "2     57\n",
      "3     78\n",
      "4     92\n",
      "5     23\n",
      "6     84\n",
      "7     63\n",
      "8     59\n",
      "9     61\n",
      "10    47\n",
      "11    27\n",
      "12    99\n",
      "13    84\n",
      "14    95\n",
      "15    50\n",
      "Name: cur_grade, dtype: int64 <class 'pandas.core.series.Series'>\n"
     ]
    }
   ],
   "source": [
    "# series\n",
    "cur_res = tab.loc[:, 'cur_grade']\n",
    "print(cur_res, type(cur_res))"
   ]
  },
  {
   "cell_type": "code",
   "execution_count": 6,
   "id": "4168b8c6",
   "metadata": {},
   "outputs": [
    {
     "name": "stdout",
     "output_type": "stream",
     "text": [
      "1        Beard Leilani\n",
      "2        Bowen Cameron\n",
      "3           Bray Carly\n",
      "4      Galloway Portia\n",
      "5        Lowe Hadassah\n",
      "6       Mcleod Griffin\n",
      "7         Oneill Hilda\n",
      "8     Patton Allistair\n",
      "9            Short Ori\n",
      "10    Skinner Caldwell\n",
      "11         Slater Rina\n",
      "12        Sparks Kitra\n",
      "13       Spence Trevor\n",
      "14           West Iola\n",
      "15         Yang Ingrid\n",
      "dtype: object <class 'pandas.core.series.Series'>\n"
     ]
    }
   ],
   "source": [
    "# series\n",
    "group_list = tab['surname'] + ' ' + tab['name']\n",
    "group_list = group_list.sort_values(ascending=True)\n",
    "group_list.index = num\n",
    "print(group_list, type(group_list))"
   ]
  }
 ],
 "metadata": {
  "kernelspec": {
   "display_name": "Python 3 (ipykernel)",
   "language": "python",
   "name": "python3"
  },
  "language_info": {
   "codemirror_mode": {
    "name": "ipython",
    "version": 3
   },
   "file_extension": ".py",
   "mimetype": "text/x-python",
   "name": "python",
   "nbconvert_exporter": "python",
   "pygments_lexer": "ipython3",
   "version": "3.11.1"
  }
 },
 "nbformat": 4,
 "nbformat_minor": 5
}
